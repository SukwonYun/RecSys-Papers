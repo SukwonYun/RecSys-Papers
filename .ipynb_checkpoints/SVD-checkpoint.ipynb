{
 "cells": [
  {
   "cell_type": "markdown",
   "metadata": {},
   "source": [
    "## SVD"
   ]
  },
  {
   "cell_type": "code",
   "execution_count": 22,
   "metadata": {},
   "outputs": [],
   "source": [
    "import numpy as np\n",
    "import pandas as pd\n",
    "import matplotlib.pyplot as plt\n",
    "from timeit import default_timer as timer"
   ]
  },
  {
   "cell_type": "code",
   "execution_count": 23,
   "metadata": {},
   "outputs": [],
   "source": [
    "def data_loader_main(data):\n",
    "    data = pd.read_table(data, sep = '\\t', header=None)\n",
    "    data.columns = [\"userid\", \"itemid\", \"rating\", \"timestamp\"]\n",
    "    \n",
    "    num_users = data['userid'].unique().shape[0]\n",
    "    num_movies = data['itemid'].unique().shape[0]\n",
    "    \n",
    "    rating = np.zeros((num_users, num_movies))\n",
    "    \n",
    "    for row in data.itertuples():\n",
    "        rating[row[1]-1, row[2]-1] = row[3]\n",
    "    \n",
    "    return rating, num_users, num_movies\n",
    "\n",
    "# To get overall matrix in validation set, we get num_users, num_movies as inputs\n",
    "def data_loader_val(data, num_users, num_movies):\n",
    "    data = pd.read_table(data, sep = '\\t', header=None)\n",
    "    data.columns = [\"userid\", \"itemid\", \"rating\", \"timestamp\"]\n",
    "    \n",
    "    rating = np.zeros((num_users, num_movies))\n",
    "    \n",
    "    for row in data.itertuples():\n",
    "        rating[row[1]-1, row[2]-1] = row[3]\n",
    "    \n",
    "    return rating"
   ]
  },
  {
   "cell_type": "code",
   "execution_count": 24,
   "metadata": {},
   "outputs": [],
   "source": [
    "ratings, num_users, num_movies = data_loader_main('./ml-100k/u.data')\n",
    "train = data_loader_val('./ml-100k/u1.base', num_users, num_movies)\n",
    "test = data_loader_val('./ml-100k/u1.test', num_users, num_movies)"
   ]
  },
  {
   "cell_type": "code",
   "execution_count": 25,
   "metadata": {},
   "outputs": [],
   "source": [
    "class SVD():\n",
    "            \n",
    "    def __init__(self, train, test, learning_rate = 0.01, n_factors = 15, epoch = 10, \n",
    "                 reg = 0.01, seed = 1234, verbose = True):\n",
    "        \n",
    "        self.train = train\n",
    "        self.test = test\n",
    "        self.learning_rate = learning_rate\n",
    "        self.n_factors = n_factors\n",
    "        self.n_iters = epoch\n",
    "        self.reg = reg\n",
    "        self.seed = seed\n",
    "        self.verbose = verbose\n",
    "    \n",
    "    def fit(self):\n",
    "        \"\"\"\n",
    "        update matrix with latent factors\n",
    "        \"\"\"\n",
    "\n",
    "        n_users, n_items = self.train.shape\n",
    "\n",
    "        #initialize parameters\n",
    "        self.user_factors = np.random.normal(scale = 1.0/self.n_factors, size=(n_users, self.n_factors))\n",
    "        self.item_factors = np.random.normal(scale = 1.0/self.n_factors, size=(n_items, self.n_factors))\n",
    "        \n",
    "        #initialize biases\n",
    "        self.b_u = np.zeros(n_users)\n",
    "        self.b_i = np.zeros(n_items)\n",
    "        self.b = np.mean(ratings[np.where(self.train != 0)])\n",
    "        \n",
    "        #train with epochs\n",
    "        self.train_process = []\n",
    "        \n",
    "        start = timer()\n",
    "        \n",
    "        for epoch in range(self.n_iters):\n",
    "            start_epoch = timer()\n",
    "            \n",
    "            for u in range(n_users):\n",
    "                for i in range(n_items):\n",
    "                    if self.train[u, i] > 0:\n",
    "                        self.gradient_descent(u, i, self.train[u,i])\n",
    "            \n",
    "            rmse = self.rmse()\n",
    "            self.train_process.append(rmse)\n",
    "            \n",
    "            if self.verbose == True:\n",
    "                print(\"Epoch : %d, rmse = %.4f, time = %.4f\" % (epoch+1, rmse, timer()-start_epoch))\n",
    "                \n",
    "        print()\n",
    "        print(\"Time Spent on overall fitting: %.4f sec\" % (timer() - start))\n",
    "\n",
    "        return self\n",
    "    \n",
    "    def rmse(self):\n",
    "        \"\"\"\n",
    "        return rmse\n",
    "        \"\"\"\n",
    "        \n",
    "        x_test, y_test = self.test.nonzero()\n",
    "        predicted = self.prediction_matrix()\n",
    "        mse = 0\n",
    "        \n",
    "        for x, y in zip(x_test, y_test):\n",
    "            mse += pow(self.test[x, y] - predicted[x, y], 2)\n",
    "        \n",
    "        return np.sqrt(mse/len(x_test))\n",
    "        \n",
    "    def gradient(self, error, u, i):\n",
    "        \"\"\"\n",
    "        gradient of latent feature\n",
    "        \n",
    "        error: rating - prediction error\n",
    "        u: user index\n",
    "        i: item index\n",
    "        \"\"\"\n",
    "        \n",
    "        dp = (error * self.item_factors[i,:]) - (self.reg * self.user_factors[u,:])\n",
    "        dq = (error * self.user_factors[u,:]) - (self.reg * self.item_factors[i,:])\n",
    "        \n",
    "        return dp, dq\n",
    "              \n",
    "    def gradient_descent(self, u, i, rating):\n",
    "        \"\"\"\n",
    "        applying gradient descent\n",
    "        \n",
    "        u: user index\n",
    "        i: item index\n",
    "        rating: rating of (u,i)\n",
    "        \"\"\"\n",
    "        \n",
    "        predict = self.prediction(u,i)\n",
    "        error = rating - predict\n",
    "        \n",
    "        self.b_u[u] = self.learning_rate * (error - self.reg * self.b_u[u]) \n",
    "        self.b_i[i] = self.learning_rate * (error - self.reg * self.b_i[i])\n",
    "\n",
    "        dp, dq = self.gradient(error, u, i)\n",
    "        self.user_factors[u,:] += self.learning_rate * dp\n",
    "        self.item_factors[i,:] += self.learning_rate * dq\n",
    " \n",
    "    def prediction_matrix(self):\n",
    "        \"\"\"\n",
    "        get full prediction matrix\n",
    "        \"\"\"\n",
    "              \n",
    "        return self.b + self.b_u[:, np.newaxis] + self.b_i[np.newaxis,:] + self.user_factors.dot(self.item_factors.T)\n",
    "    \n",
    "    def prediction(self, u, i):\n",
    "        \"\"\"\n",
    "        get predicted rating by user i on item j\n",
    "        \"\"\"\n",
    "        \n",
    "        return self.b + self.b_u[u] + self.b_i[i] + self.user_factors[u, :].dot(self.item_factors[i,:].T)"
   ]
  },
  {
   "cell_type": "code",
   "execution_count": 26,
   "metadata": {},
   "outputs": [
    {
     "name": "stdout",
     "output_type": "stream",
     "text": [
      "Epoch : 1, rmse = 1.1496, time = 2.0790\n",
      "Epoch : 2, rmse = 1.1496, time = 2.3106\n",
      "Epoch : 3, rmse = 1.1493, time = 2.3178\n",
      "Epoch : 4, rmse = 1.1481, time = 2.3029\n",
      "Epoch : 5, rmse = 1.1439, time = 2.3080\n",
      "Epoch : 6, rmse = 1.1313, time = 2.2986\n",
      "Epoch : 7, rmse = 1.1056, time = 2.3141\n",
      "Epoch : 8, rmse = 1.0742, time = 2.3096\n",
      "Epoch : 9, rmse = 1.0455, time = 2.2935\n",
      "Epoch : 10, rmse = 1.0218, time = 2.2975\n",
      "\n",
      "Time Spent on overall fitting: 22.8339 sec\n"
     ]
    },
    {
     "data": {
      "text/plain": [
       "<__main__.SVD at 0x7f5b2a7759d0>"
      ]
     },
     "execution_count": 26,
     "metadata": {},
     "output_type": "execute_result"
    }
   ],
   "source": [
    "svd_params = {'learning_rate': 0.01, 'n_factors': 40, 'epoch': 10, 'reg': 0.01}\n",
    "\n",
    "svd = SVD(train, test, **svd_params)\n",
    "svd.fit()"
   ]
  },
  {
   "cell_type": "code",
   "execution_count": 27,
   "metadata": {},
   "outputs": [
    {
     "data": {
      "text/plain": [
       "Text(0, 0.5, 'RMSE')"
      ]
     },
     "execution_count": 27,
     "metadata": {},
     "output_type": "execute_result"
    },
    {
     "data": {
      "image/png": "[encoded data removed]",
      "text/plain": [
       "<Figure size 432x288 with 1 Axes>"
      ]
     },
     "metadata": {
      "needs_background": "light"
     },
     "output_type": "display_data"
    }
   ],
   "source": [
    "plt.plot(svd.train_process)\n",
    "plt.title('RMSE on epoch')\n",
    "plt.xlabel('Epochs')\n",
    "plt.ylabel('RMSE')"
   ]
  },
  {
   "cell_type": "markdown",
   "metadata": {},
   "source": [
    "## 5 fold Cross Validation "
   ]
  },
  {
   "cell_type": "code",
   "execution_count": 28,
   "metadata": {},
   "outputs": [],
   "source": [
    "train_set = ['./ml-100k/u1.base','./ml-100k/u2.base','./ml-100k/u3.base','./ml-100k/u4.base','./ml-100k/u5.base']\n",
    "test_set = ['./ml-100k/u1.test','./ml-100k/u2.test','./ml-100k/u3.test','./ml-100k/u4.test','./ml-100k/u5.test']"
   ]
  },
  {
   "cell_type": "code",
   "execution_count": 29,
   "metadata": {},
   "outputs": [
    {
     "name": "stdout",
     "output_type": "stream",
     "text": [
      "---------------- Set 1 ----------------\n",
      "Epoch : 1, rmse = 1.1497, time = 2.2136\n",
      "Epoch : 2, rmse = 1.1496, time = 2.3064\n",
      "Epoch : 3, rmse = 1.1494, time = 2.3148\n",
      "Epoch : 4, rmse = 1.1483, time = 2.3272\n",
      "Epoch : 5, rmse = 1.1445, time = 2.3098\n",
      "Epoch : 6, rmse = 1.1328, time = 2.2986\n",
      "Epoch : 7, rmse = 1.1076, time = 2.3272\n",
      "Epoch : 8, rmse = 1.0753, time = 2.3049\n",
      "Epoch : 9, rmse = 1.0458, time = 2.3078\n",
      "Epoch : 10, rmse = 1.0225, time = 2.3078\n",
      "\n",
      "Time Spent on overall fitting: 23.0206 sec\n",
      "\n",
      "---------------- Set 2 ----------------\n",
      "Epoch : 1, rmse = 1.1268, time = 2.2072\n",
      "Epoch : 2, rmse = 1.1267, time = 2.4798\n",
      "Epoch : 3, rmse = 1.1262, time = 2.5040\n",
      "Epoch : 4, rmse = 1.1244, time = 2.5177\n",
      "Epoch : 5, rmse = 1.1183, time = 2.5060\n",
      "Epoch : 6, rmse = 1.1010, time = 2.5232\n",
      "Epoch : 7, rmse = 1.0708, time = 2.5079\n",
      "Epoch : 8, rmse = 1.0397, time = 2.5316\n",
      "Epoch : 9, rmse = 1.0130, time = 2.3781\n",
      "Epoch : 10, rmse = 0.9916, time = 2.3696\n",
      "\n",
      "Time Spent on overall fitting: 24.5272 sec\n",
      "\n",
      "---------------- Set 3 ----------------\n",
      "Epoch : 1, rmse = 1.1077, time = 2.4868\n",
      "Epoch : 2, rmse = 1.1076, time = 2.5575\n",
      "Epoch : 3, rmse = 1.1071, time = 2.6377\n",
      "Epoch : 4, rmse = 1.1053, time = 2.6109\n",
      "Epoch : 5, rmse = 1.0986, time = 2.3342\n",
      "Epoch : 6, rmse = 1.0808, time = 2.4846\n",
      "Epoch : 7, rmse = 1.0536, time = 2.5593\n",
      "Epoch : 8, rmse = 1.0281, time = 2.5550\n",
      "Epoch : 9, rmse = 1.0042, time = 2.5677\n",
      "Epoch : 10, rmse = 0.9836, time = 2.6319\n",
      "\n",
      "Time Spent on overall fitting: 25.4278 sec\n",
      "\n",
      "---------------- Set 4 ----------------\n",
      "Epoch : 1, rmse = 1.1094, time = 2.5450\n",
      "Epoch : 2, rmse = 1.1093, time = 2.5638\n",
      "Epoch : 3, rmse = 1.1087, time = 2.6215\n",
      "Epoch : 4, rmse = 1.1064, time = 2.5933\n",
      "Epoch : 5, rmse = 1.0986, time = 2.6158\n",
      "Epoch : 6, rmse = 1.0782, time = 2.5612\n",
      "Epoch : 7, rmse = 1.0486, time = 2.5527\n",
      "Epoch : 8, rmse = 1.0227, time = 2.5642\n",
      "Epoch : 9, rmse = 0.9992, time = 2.5658\n",
      "Epoch : 10, rmse = 0.9787, time = 2.5513\n",
      "\n",
      "Time Spent on overall fitting: 25.7365 sec\n",
      "\n",
      "---------------- Set 5 ----------------\n",
      "Epoch : 1, rmse = 1.1148, time = 2.3052\n",
      "Epoch : 2, rmse = 1.1147, time = 2.4087\n",
      "Epoch : 3, rmse = 1.1142, time = 2.3902\n",
      "Epoch : 4, rmse = 1.1125, time = 2.3817\n",
      "Epoch : 5, rmse = 1.1064, time = 2.3582\n",
      "Epoch : 6, rmse = 1.0894, time = 2.4295\n",
      "Epoch : 7, rmse = 1.0616, time = 2.3491\n",
      "Epoch : 8, rmse = 1.0341, time = 2.3934\n",
      "Epoch : 9, rmse = 1.0097, time = 2.4019\n",
      "Epoch : 10, rmse = 0.9899, time = 2.3462\n",
      "\n",
      "Time Spent on overall fitting: 23.7660 sec\n",
      "\n"
     ]
    },
    {
     "data": {
      "image/png": "[encoded data removed]",
      "text/plain": [
       "<Figure size 432x288 with 1 Axes>"
      ]
     },
     "metadata": {
      "needs_background": "light"
     },
     "output_type": "display_data"
    },
    {
     "name": "stdout",
     "output_type": "stream",
     "text": [
      "\n",
      "-------------\n",
      "Overall RMSE: 0.989927821467329\n"
     ]
    }
   ],
   "source": [
    "for i in range(len(train_set)):\n",
    "    ratings, num_users, num_movies = data_loader_main('./ml-100k/u.data')\n",
    "    train = data_loader_val(train_set[i], num_users, num_movies)\n",
    "    test = data_loader_val(test_set[i], num_users, num_movies)\n",
    "    \n",
    "    svd_params = {'learning_rate': 0.01, 'n_factors': 40, 'epoch': 10, 'reg': 0.01}\n",
    "    svd = SVD(train, test, **svd_params)\n",
    "    \n",
    "    print('----------------','Set', i+1, '----------------')\n",
    "    svd.fit()\n",
    "    print()\n",
    "    \n",
    "    #plotting each set's rmse\n",
    "    plt.plot(svd.train_process, label = 'Set %i' % (i+1))\n",
    "    plt.xlabel('Epochs')\n",
    "    plt.ylabel('RMSE')\n",
    "    \n",
    "    final_rmse = []\n",
    "    final_rmse.append(svd.train_process[-1])\n",
    "    \n",
    "plt.legend()\n",
    "plt.title('RMSE on each set')\n",
    "plt.show()    \n",
    "\n",
    "print()\n",
    "print(\"-------------\")\n",
    "print(\"Overall RMSE:\", np.mean(final_rmse))"
   ]
  }
 ],
 "metadata": {
  "kernelspec": {
   "display_name": "Python 3",
   "language": "python",
   "name": "python3"
  },
  "language_info": {
   "codemirror_mode": {
    "name": "ipython",
    "version": 3
   },
   "file_extension": ".py",
   "mimetype": "text/x-python",
   "name": "python",
   "nbconvert_exporter": "python",
   "pygments_lexer": "ipython3",
   "version": "3.7.4"
  }
 },
 "nbformat": 4,
 "nbformat_minor": 4
}
