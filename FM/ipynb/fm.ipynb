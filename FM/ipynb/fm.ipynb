{
 "cells": [
  {
   "cell_type": "code",
   "execution_count": 8,
   "metadata": {},
   "outputs": [],
   "source": [
    "import import_ipynb\n",
    "\n",
    "import torch\n",
    "\n",
    "from layer import FactorizationMachine, FeaturesEmbedding, FeaturesLinear\n",
    "\n",
    "class FM(torch.nn.Module):\n",
    "    def __init__(self, field_dims, embed_dim):\n",
    "        super().__init__()\n",
    "        self.embedding = FeaturesEmbedding(field_dims, embed_dim)\n",
    "        self.linear = FeaturesLinear(field_dims)\n",
    "        self.fm = FactorizationMachine(reduce_sum = True)\n",
    "    \n",
    "    def forward(self, x):\n",
    "        \"\"\"\n",
    "        parameter\n",
    "        ---------\n",
    "        x : Long tensor of size (batch_size, num_fields)\n",
    "        \n",
    "        \"\"\"\n",
    "        \n",
    "        x = self.linear(x) + self.fm(self.embedding(x))\n",
    "        \n",
    "        return torch.sigmoid(x.squeeze(1)) #exclude 1 in shape (ax1xb) -> (axb)"
   ]
  }
 ],
 "metadata": {
  "kernelspec": {
   "display_name": "Python 3",
   "language": "python",
   "name": "python3"
  },
  "language_info": {
   "codemirror_mode": {
    "name": "ipython",
    "version": 3
   },
   "file_extension": ".py",
   "mimetype": "text/x-python",
   "name": "python",
   "nbconvert_exporter": "python",
   "pygments_lexer": "ipython3",
   "version": "3.7.4"
  }
 },
 "nbformat": 4,
 "nbformat_minor": 4
}
