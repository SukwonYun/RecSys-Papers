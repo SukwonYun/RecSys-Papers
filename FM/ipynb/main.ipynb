{
 "cells": [
  {
   "cell_type": "code",
   "execution_count": 11,
   "metadata": {},
   "outputs": [],
   "source": [
    "import numpy as np\n",
    "import pandas as pd\n",
    "import torch\n",
    "import tqdm\n",
    "from sklearn.metrics import roc_auc_score\n",
    "from torch.utils.data import DataLoader"
   ]
  },
  {
   "cell_type": "code",
   "execution_count": 19,
   "metadata": {},
   "outputs": [],
   "source": [
    "import import_ipynb\n",
    "from fm import FactorizationMachine"
   ]
  },
  {
   "cell_type": "code",
   "execution_count": 7,
   "metadata": {},
   "outputs": [],
   "source": [
    "class MovieLens1M(torch.utils.data.Dataset):\n",
    "    \"\"\"\n",
    "    MovieLens 1M Dataset\n",
    "    Treat as negative samples when rating is less than 3\n",
    "    \"\"\"\n",
    "    \n",
    "    def __init__(self, dataset_path, sep='::', engine = 'python', header = None):\n",
    "        data = pd.read_csv(dataset_path, sep=sep, engine=engine, header=header).to_numpy()[:,:3]\n",
    "        self.items = data[:, :2].astype(np.int) - 1 #since index starts from 0\n",
    "        self.targets = self.__preprocess_target(data[:,2]).astype(np.float32)\n",
    "        self.field_dims = np.max(self.items, axis = 0) + 1\n",
    "        self.user_field_idx = np.array((0, ), dtype = np.long)\n",
    "        self.item_field_idx = np.array((1, ), dtype = np.long)\n",
    "        \n",
    "    def __len__(self):\n",
    "        return self.targets.shape[0]\n",
    "    \n",
    "    def __getitem__(self, index):\n",
    "        return self.items[index], self.targets[index]\n",
    "    \n",
    "    def __preprocesss_target(self, target):\n",
    "        target[target <= 3] = 0\n",
    "        target[target > 3] = 1\n",
    "        \n",
    "        return target"
   ]
  },
  {
   "cell_type": "code",
   "execution_count": 20,
   "metadata": {},
   "outputs": [],
   "source": [
    "def get_dataset(name, path):\n",
    "    if name == 'movielens1M':\n",
    "        return MovieLens1MDataset(path)\n",
    "    else:\n",
    "        raise ValueError('unknown dataset name: ' + name)\n",
    "\n",
    "def get_model(name,dataset):\n",
    "    \"\"\"\n",
    "    Hyperparameters are empirically determined\n",
    "    \"\"\"\n",
    "    \n",
    "    field_dims = dataset.field_dims\n",
    "    \n",
    "    if name == 'fm':\n",
    "        return FactorizationMachine(field_dims, embed_dim=16)\n",
    "    else:\n",
    "        raise ValueError('unknown dataset name: ' + name)"
   ]
  },
  {
   "cell_type": "code",
   "execution_count": 21,
   "metadata": {},
   "outputs": [],
   "source": [
    "class EarlyStopper(object):\n",
    "    \n",
    "    def __init__(self, num_trials, save_path):\n",
    "        self.num_trials = num_trials\n",
    "        self.trial_counter = 0\n",
    "        self.best_accuracy = 0\n",
    "        self.save_path = save_path\n",
    "    \n",
    "    def is_continuable(self, model, accuracy):\n",
    "        if accuracy > self.best_accuracy:\n",
    "            self.best_accuracy = accuracy\n",
    "            self.trial_counter = 0\n",
    "            torch.save(model, self.save_path)\n",
    "            \n",
    "            return True\n",
    "        \n",
    "        elif self.trial_counter + 1 < self.num_trials:\n",
    "            self.trial_counter += 1\n",
    "            \n",
    "            return True\n",
    "        \n",
    "        else:\n",
    "            return False\n",
    "        "
   ]
  },
  {
   "cell_type": "code",
   "execution_count": 24,
   "metadata": {},
   "outputs": [],
   "source": [
    "def train(model, optimizer, data_loader, criterion, device, log_interval = 100):\n",
    "    model.train()\n",
    "    total_loss = 0\n",
    "    tk0 = tqdm.tqdm(data_loader, smoothing = 0, mininterval = 1.0)\n",
    "    for i, (fields, target) in enumerate(tk0):\n",
    "        fields, target = fields.to(device), target.to(device)\n",
    "        y = model(fields)\n",
    "        loss = criterion(y, target.float())\n",
    "        model.zero_grad()\n",
    "        loss.backward()\n",
    "        optimizer.step()\n",
    "        total_loss += loss.item()\n",
    "        if (i+1) % log_interval == 0:\n",
    "            tk0.set_postfix(loss = total_loss / log_interval)\n",
    "            total_loss = 0\n",
    "            \n",
    "def test(model, data_loader, device):\n",
    "    model.eval()\n",
    "    targets, predicts = list(), list()\n",
    "    with  torch.no_grad():\n",
    "        for fields, target in tqdm.tqdm(data_loader, smoothing = 0, mininterval = 1.0):\n",
    "            fields, target = fields.to(device), target.to(device)\n",
    "            y = model(fields)\n",
    "            targets.extend(target.tolist())\n",
    "            predicts.extend(y.tolist())\n",
    "        \n",
    "        return roc_auc_score(targets, predicts)\n",
    "    "
   ]
  },
  {
   "cell_type": "code",
   "execution_count": 25,
   "metadata": {},
   "outputs": [],
   "source": [
    "def main(dataset_name,\n",
    "        dataset_path,\n",
    "        model_name,\n",
    "        epoch,\n",
    "        learning_rate,\n",
    "        batch_size,\n",
    "        weight_decay,\n",
    "        device,\n",
    "        save_dir):\n",
    "    device = torch.device(device)\n",
    "    dataset = get_dataset(dataset_name, dataset_path)\n",
    "    train_length = int(len(dataset) * 0.8)\n",
    "    valid_length = int(len(dataset) * 0.1)\n",
    "    test_length = len(dataset) - train_length - valid_length\n",
    "    train_dataset, valid_dataset, test_dataset = torch.utils.data.random_split(\n",
    "        dataset, (train_length, valid_length, test_length))\n",
    "    \n",
    "    train_data_loader = DataLoader(train_dataset, batch_size = batch_size, num_workers=8)\n",
    "    valid_data_loader = DataLoader(valid_dataset, batch_size = batch_size, num_workers=8)\n",
    "    test_data_loader = DataLoader(test_dataset, batch_size = batch_size, num_workers=8)\n",
    "    \n",
    "    model = get_model(model_name, dataset).to(device)\n",
    "    criterion = torch.nn.BCELoss()\n",
    "    optimizer = torch.optim.Adam(params=model.parameters(), lr=learning_rate, weight_decay=weight_decay)\n",
    "    early_stopper = EarlyStopper(num_trials=2, save_path=f'{save_dir}/{model_name}.pt')\n",
    "    \n",
    "    for epoch_i in range(epoch):\n",
    "        train(model, optimizer, train_data_loader, criterion, device)\n",
    "        auc = test(model, valid_data_loader, device)\n",
    "        print('epoch:', epoch_i, 'auc', auc)\n",
    "        if not early_stopper.is_continuable(model,auc):\n",
    "            print(f'validation best auc: {early_stopper.best_Accuracy}')\n",
    "            break\n",
    "        \n",
    "        auc = test(model, test_data_loader, device)\n",
    "        print(f'test auc: {auc}')\n",
    "    "
   ]
  },
  {
   "cell_type": "code",
   "execution_count": 27,
   "metadata": {},
   "outputs": [
    {
     "name": "stderr",
     "output_type": "stream",
     "text": [
      "usage: ipykernel_launcher.py [-h] [--dataset_name DATASET_NAME]\n",
      "                             [--dataset_path DATASET_PATH]\n",
      "                             [--model_name MODEL_NAME] [--epoch EPOCH]\n",
      "                             [--learning_rate LEARNING_RATE]\n",
      "                             [--batch_size BATCH_SIZE]\n",
      "                             [--weight_decay WEIGHT_DECAY] [--device DEVICE]\n",
      "                             [--save_dir SAVE_DIR]\n",
      "ipykernel_launcher.py: error: unrecognized arguments: -f /home/sukwon/.local/share/jupyter/runtime/kernel-3b6d7b99-37ec-4818-896a-742a17d33a22.json\n"
     ]
    },
    {
     "ename": "SystemExit",
     "evalue": "2",
     "output_type": "error",
     "traceback": [
      "An exception has occurred, use %tb to see the full traceback.\n",
      "\u001b[0;31mSystemExit\u001b[0m\u001b[0;31m:\u001b[0m 2\n"
     ]
    }
   ],
   "source": [
    "if __name__ == '__main__':\n",
    "    import argparse\n",
    "\n",
    "    parser = argparse.ArgumentParser()\n",
    "    parser.add_argument('--dataset_name', default='movielens1M')\n",
    "    parser.add_argument('--dataset_path', help='ml-1m/ratings.dat')\n",
    "    parser.add_argument('--model_name', default='fm')\n",
    "    parser.add_argument('--epoch', type=int, default=100)\n",
    "    parser.add_argument('--learning_rate', type=float, default=0.001)\n",
    "    parser.add_argument('--batch_size', type=int, default=2048)\n",
    "    parser.add_argument('--weight_decay', type=float, default=1e-6)\n",
    "    parser.add_argument('--device', default='cuda:0')\n",
    "    parser.add_argument('--save_dir', default='chkpt')\n",
    "    args = parser.parse_args()\n",
    "    main(args.dataset_name,\n",
    "         args.dataset_path,\n",
    "         args.model_name,\n",
    "         args.epoch,\n",
    "         args.learning_rate,\n",
    "         args.batch_size,\n",
    "         args.weight_decay,\n",
    "         args.device,\n",
    "         args.save_dir)"
   ]
  },
  {
   "cell_type": "code",
   "execution_count": null,
   "metadata": {},
   "outputs": [],
   "source": []
  }
 ],
 "metadata": {
  "kernelspec": {
   "display_name": "Python 3",
   "language": "python",
   "name": "python3"
  },
  "language_info": {
   "codemirror_mode": {
    "name": "ipython",
    "version": 3
   },
   "file_extension": ".py",
   "mimetype": "text/x-python",
   "name": "python",
   "nbconvert_exporter": "python",
   "pygments_lexer": "ipython3",
   "version": "3.7.4"
  }
 },
 "nbformat": 4,
 "nbformat_minor": 4
}
